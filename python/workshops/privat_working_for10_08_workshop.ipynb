{
 "cells": [
  {
   "cell_type": "code",
   "execution_count": 29,
   "id": "6b6ec448",
   "metadata": {},
   "outputs": [
    {
     "name": "stdout",
     "output_type": "stream",
     "text": [
      "Bir sayi giriniz : 3\n",
      "Yeni sayi giriniz : 5\n",
      "Yeni sayi giriniz : 4\n",
      "girilen sayi listesi :  [3, 5]  en yüksek sayi :  5\n"
     ]
    }
   ],
   "source": [
    "n=0\n",
    "sayi_list=[]\n",
    "girilen_sayi=int(input(\"Bir sayi giriniz : \"))\n",
    "while n <= girilen_sayi :\n",
    "    sayi_list.append(girilen_sayi)\n",
    "    n = girilen_sayi\n",
    "    girilen_sayi=int(input(\"Yeni sayi giriniz : \"))\n",
    "    if(girilen_sayi==n):\n",
    "        girilen_sayi=int(input(\"Ayni sayi girildi tekrar giriniz :\" ))\n",
    "print(\"girilen sayi listesi : \" ,sayi_list,\" en yüksek sayi : \" ,n)\n"
   ]
  },
  {
   "cell_type": "code",
   "execution_count": 36,
   "id": "30ba66a3",
   "metadata": {},
   "outputs": [
    {
     "ename": "TypeError",
     "evalue": "'in <string>' requires string as left operand, not list",
     "output_type": "error",
     "traceback": [
      "\u001b[1;31m---------------------------------------------------------------------------\u001b[0m",
      "\u001b[1;31mTypeError\u001b[0m                                 Traceback (most recent call last)",
      "\u001b[1;32m<ipython-input-36-bc366e09ab79>\u001b[0m in \u001b[0;36m<module>\u001b[1;34m\u001b[0m\n\u001b[0;32m      5\u001b[0m \u001b[0mlist_4\u001b[0m \u001b[1;33m=\u001b[0m \u001b[1;33m[\u001b[0m\u001b[1;33m]\u001b[0m\u001b[1;33m\u001b[0m\u001b[1;33m\u001b[0m\u001b[0m\n\u001b[0;32m      6\u001b[0m \u001b[1;32mfor\u001b[0m \u001b[0mi\u001b[0m \u001b[1;32min\u001b[0m \u001b[0mstrs\u001b[0m\u001b[1;33m:\u001b[0m\u001b[1;33m\u001b[0m\u001b[1;33m\u001b[0m\u001b[0m\n\u001b[1;32m----> 7\u001b[1;33m     \u001b[1;32mif\u001b[0m \u001b[0msorted\u001b[0m\u001b[1;33m(\u001b[0m\u001b[0mi\u001b[0m\u001b[1;33m)\u001b[0m \u001b[1;32min\u001b[0m \u001b[1;33m(\u001b[0m\u001b[1;34m\"e\"\u001b[0m \u001b[1;32mand\u001b[0m \u001b[1;34m\"a\"\u001b[0m \u001b[1;32mand\u001b[0m\u001b[1;34m\"t\"\u001b[0m\u001b[1;33m)\u001b[0m\u001b[1;33m:\u001b[0m\u001b[1;33m\u001b[0m\u001b[1;33m\u001b[0m\u001b[0m\n\u001b[0m\u001b[0;32m      8\u001b[0m         \u001b[0mlist_1\u001b[0m\u001b[1;33m.\u001b[0m\u001b[0mappend\u001b[0m\u001b[1;33m(\u001b[0m\u001b[0mi\u001b[0m\u001b[1;33m)\u001b[0m\u001b[1;33m\u001b[0m\u001b[1;33m\u001b[0m\u001b[0m\n\u001b[0;32m      9\u001b[0m     \u001b[1;32melif\u001b[0m \u001b[0msorted\u001b[0m\u001b[1;33m(\u001b[0m\u001b[0mi\u001b[0m\u001b[1;33m)\u001b[0m\u001b[1;33m==\u001b[0m\u001b[1;33m(\u001b[0m\u001b[1;34m\"n\"\u001b[0m \u001b[1;32mand\u001b[0m \u001b[1;34m\"a\"\u001b[0m \u001b[1;32mand\u001b[0m \u001b[1;34m\"t\"\u001b[0m\u001b[1;33m)\u001b[0m\u001b[1;33m:\u001b[0m\u001b[1;33m\u001b[0m\u001b[1;33m\u001b[0m\u001b[0m\n",
      "\u001b[1;31mTypeError\u001b[0m: 'in <string>' requires string as left operand, not list"
     ]
    }
   ],
   "source": [
    "strs = [\"eat\", \"tea\", \"tan\", \"ate\", \"nat\", \"bat\", \"cat\", \"tac\"]\n",
    "list_1 = []\n",
    "list_2 = []\n",
    "list_3 = []\n",
    "list_4 = []\n",
    "for i in strs:\n",
    "    if sorted(i) in (\"e\" and \"a\" and\"t\"):\n",
    "        list_1.append(i)\n",
    "    elif sorted(i)==(\"n\" and \"a\" and \"t\"):\n",
    "        list_2.append(i)\n",
    "    elif sorted(i) ==(\"b\" and \"a\" and \"t\"):\n",
    "        list_3.append(i)\n",
    "    elif sorted(i) == (\"c\" and \"a\" and \"t\"):\n",
    "        list_4.append(i)\n",
    "print(list_1,list_2,list_3,list_4)\n",
    "        "
   ]
  },
  {
   "cell_type": "code",
   "execution_count": 26,
   "id": "521a7e8b",
   "metadata": {},
   "outputs": [
    {
     "name": "stdout",
     "output_type": "stream",
     "text": [
      "[['eat', 'tea', 'ate'], ['tan', 'nat'], ['bat'], ['cat', 'tac']]\n"
     ]
    }
   ],
   "source": [
    "strs = [\"eat\", \"tea\", \"tan\", \"ate\", \"nat\", \"bat\", \"cat\", \"tac\"]\n",
    "anag = {}\n",
    "for i in strs:\n",
    "    element = \"\".join(sorted(i))\n",
    "    if element in anag:\n",
    "        anag[element].append(i)\n",
    "    else:\n",
    "        anag[element] = [i]\n",
    "print(list(anag.values()))"
   ]
  },
  {
   "cell_type": "code",
   "execution_count": null,
   "id": "078b9174",
   "metadata": {},
   "outputs": [],
   "source": [
    "height = []\n",
    "while True:\n",
    "    num = input(\"Type 'ok' when you are done: \")\n",
    "   \n",
    "    if num != \"ok\":\n",
    "        height.append(int(num))\n",
    "   \n",
    "    else:\n",
    "        break\n",
    "\n",
    "areas = 0\n",
    "\n",
    "max_l = max_r = 0\n",
    "\n",
    "l = 0\n",
    "\n",
    "r = len(height)-1\n",
    "\n",
    "while l < r:\n",
    "   \n",
    "    if height[l] < height[r]:\n",
    "       \n",
    "        if height[l] > max_l:\n",
    "            max_l = height[l]\n",
    "       \n",
    "        else:\n",
    "            areas += max_l - height[l]\n",
    "      \n",
    "        l += 1\n",
    "   \n",
    "    else:\n",
    "        if height[r] > max_r:\n",
    "            max_r = height[r]\n",
    "        else:\n",
    "            areas += max_r - height[r]\n",
    "        \n",
    "        r -= 1\n",
    "print(\"\\nRain-trapped area : \", areas)"
   ]
  },
  {
   "cell_type": "code",
   "execution_count": null,
   "id": "cb68b290",
   "metadata": {},
   "outputs": [],
   "source": []
  },
  {
   "cell_type": "code",
   "execution_count": null,
   "id": "c4a08204",
   "metadata": {},
   "outputs": [],
   "source": []
  }
 ],
 "metadata": {
  "kernelspec": {
   "display_name": "Python 3",
   "language": "python",
   "name": "python3"
  },
  "language_info": {
   "codemirror_mode": {
    "name": "ipython",
    "version": 3
   },
   "file_extension": ".py",
   "mimetype": "text/x-python",
   "name": "python",
   "nbconvert_exporter": "python",
   "pygments_lexer": "ipython3",
   "version": "3.8.8"
  }
 },
 "nbformat": 4,
 "nbformat_minor": 5
}
