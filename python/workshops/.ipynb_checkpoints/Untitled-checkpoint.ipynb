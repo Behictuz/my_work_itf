{
 "cells": [
  {
   "cell_type": "code",
   "execution_count": 5,
   "id": "1234c1d4-c370-4aec-afbe-150903ba312c",
   "metadata": {
    "tags": []
   },
   "outputs": [
    {
     "name": "stdout",
     "output_type": "stream",
     "text": [
      "merhaba Dünya\n",
      "'i want' play a game'\n"
     ]
    }
   ],
   "source": [
    "print('merhaba Dünya')\n",
    "print(\"'i want' play a game'\")"
   ]
  },
  {
   "cell_type": "code",
   "execution_count": 6,
   "id": "521c894b-93b2-4e02-8589-e1b2f443829b",
   "metadata": {},
   "outputs": [
    {
     "name": "stdout",
     "output_type": "stream",
     "text": [
      " sen bana ejegkeoajdsijwindnqnd  dsjnfji434jr0üjknfsjd  cxv\n"
     ]
    }
   ],
   "source": [
    "print(\"\"\" sen bana ejegkeoajdsijwindnqnd  dsjnfji434jr0üjknfsjd  cxv\"\"\")"
   ]
  },
  {
   "cell_type": "code",
   "execution_count": 7,
   "id": "d3f7f4c5-2cfd-499b-b021-ffb62cdea69b",
   "metadata": {},
   "outputs": [
    {
     "name": "stdout",
     "output_type": "stream",
     "text": [
      "bu benim ilk dersim cok heycanliyim karsimda super insanlar var o yuzden cok iyi hisediyorum\n"
     ]
    }
   ],
   "source": [
    "print(\"\"\"bu benim ilk dersim cok heycanliyim karsimda super insanlar var o yuzden cok iyi hisediyorum\"\"\")"
   ]
  },
  {
   "cell_type": "code",
   "execution_count": 2,
   "id": "72869f95-ef26-44c6-8ef7-306ed7b98c8d",
   "metadata": {},
   "outputs": [
    {
     "ename": "IndentationError",
     "evalue": "unindent does not match any outer indentation level (<tokenize>, line 7)",
     "output_type": "error",
     "traceback": [
      "\u001b[1;36m  File \u001b[1;32m\"<tokenize>\"\u001b[1;36m, line \u001b[1;32m7\u001b[0m\n\u001b[1;33m    liste.reverse()\u001b[0m\n\u001b[1;37m    ^\u001b[0m\n\u001b[1;31mIndentationError\u001b[0m\u001b[1;31m:\u001b[0m unindent does not match any outer indentation level\n"
     ]
    }
   ],
   "source": [
    "def yeni_palindrome(sentence):\n",
    "  liste = []\n",
    "      for char in sentence:\n",
    "            if char != \"\" :\n",
    "                  liste.append(char)\n",
    " # print(liste)\n",
    "             str a= liste.reverse()\n",
    "    print()\n",
    "              liste2 = liste\n",
    " # print(liste2)\n",
    "  liste.reverse()\n",
    "         str a = string(liste)\n",
    "         str b = string(liste2)\n",
    "             if a == b:\n",
    "                       print(\"'{}' is a palindrome\".format(word))\n",
    "            else:\n",
    "                  print(\"'{}' is not a palindrome\".format(word))\n",
    "# def yeni_palindrome2(yeni_palindrome(sentence)):\n",
    " #   if liste == liste2 :\n",
    "word = input(\"Palindrom kontrolü için lütfen bir kelime veya cümle girin :\")\n",
    "yeni_palindrome(word)\n",
    " #if yeni_palindrome(word):\n",
    "   # print(\"'{}' is a palindrome\".format(word))\n",
    "# else:\n",
    " #   print(\"'{}' is not a palindrome\".format(word))"
   ]
  },
  {
   "cell_type": "code",
   "execution_count": null,
   "id": "3777b7bd",
   "metadata": {},
   "outputs": [],
   "source": []
  }
 ],
 "metadata": {
  "kernelspec": {
   "display_name": "Python 3",
   "language": "python",
   "name": "python3"
  },
  "language_info": {
   "codemirror_mode": {
    "name": "ipython",
    "version": 3
   },
   "file_extension": ".py",
   "mimetype": "text/x-python",
   "name": "python",
   "nbconvert_exporter": "python",
   "pygments_lexer": "ipython3",
   "version": "3.8.8"
  }
 },
 "nbformat": 4,
 "nbformat_minor": 5
}
