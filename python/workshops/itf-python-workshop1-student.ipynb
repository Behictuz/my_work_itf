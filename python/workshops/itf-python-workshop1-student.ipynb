{
 "cells": [
  {
   "cell_type": "markdown",
   "metadata": {},
   "source": [
    "### Problem 1\n",
    "\n",
    "Write a program that multiplies three numbers entered by the user. Print the output with the format method."
   ]
  },
  {
   "cell_type": "code",
   "execution_count": 32,
   "metadata": {},
   "outputs": [
    {
     "name": "stdout",
     "output_type": "stream",
     "text": [
      "bir sayi giriniz5\n",
      "bir sayi giriniz7\n",
      "bir sayi giriniz8\n",
      "5 * 7 * 8 = 280\n"
     ]
    }
   ],
   "source": [
    "sayi_1 = int(input(\"bir sayi giriniz\"))\n",
    "sayi_2 = int(input(\"bir sayi giriniz\"))\n",
    "sayi_3 = int(input(\"bir sayi giriniz\"))\n",
    "output = sayi_1 * sayi_2 * sayi_3\n",
    "fonksiyon = f\"{sayi_1} * {sayi_2} * {sayi_3} =\" \n",
    "print(fonksiyon,output)\n"
   ]
  },
  {
   "cell_type": "markdown",
   "metadata": {},
   "source": [
    "### Problem 2\n",
    "\n",
    "Write a program that calculates body mass index from **height** and **weight** entered by the user. \n",
    "\n",
    "Body mass index :  Weight / Height(m) * Height(m)"
   ]
  },
  {
   "cell_type": "code",
   "execution_count": 36,
   "metadata": {},
   "outputs": [
    {
     "name": "stdout",
     "output_type": "stream",
     "text": [
      "Boyunuzun degerini giriniz :4\n",
      "Kilonuzu giriniz:43\n",
      "Vucut kitle endeksi : 2.6875\n"
     ]
    }
   ],
   "source": [
    "yukseklik = float(input(\"Boyunuzun degerini giriniz :\"))\n",
    "agirlik = int(input(\"Kilonuzu giriniz:\"))\n",
    "print(\"Vucut kitle endeksi :\", agirlik/(yukseklik**2))"
   ]
  },
  {
   "cell_type": "markdown",
   "metadata": {},
   "source": [
    "### Problem 3\n",
    "\n",
    "With your $ 200, how many pieces of material can you get for $ 11 each? How much money do you have left after buying?"
   ]
  },
  {
   "cell_type": "code",
   "execution_count": 41,
   "metadata": {},
   "outputs": [
    {
     "name": "stdout",
     "output_type": "stream",
     "text": [
      "200 bu para ile 18 adet material sen alabilirsin  2 bu kadar kalir\n"
     ]
    }
   ],
   "source": [
    "toplam_para = 200\n",
    "material = 11\n",
    "adet = 200 // 11\n",
    "kalan = toplam_para % adet\n",
    "print(\"{} bu para ile\".format(toplam_para), \"{} adet material sen alabilirsin \".format(adet), \"{} bu kadar kalir\".format(kalan))"
   ]
  },
  {
   "cell_type": "markdown",
   "metadata": {},
   "source": [
    "### Problem 4\n",
    "\n",
    "Ask the user for two numbers and assign these numbers to variables and replace the values of these variables with each other."
   ]
  },
  {
   "cell_type": "code",
   "execution_count": 42,
   "metadata": {},
   "outputs": [
    {
     "name": "stdout",
     "output_type": "stream",
     "text": [
      "bir sayi giriniz : 5\n",
      "bir sayi giriniz : 3\n",
      "5 3\n",
      "3 5\n"
     ]
    }
   ],
   "source": [
    "sayi_1 =int(input(\"bir sayi giriniz : \"))\n",
    "sayi_2 = int(input(\"bir sayi giriniz : \"))\n",
    "print(sayi_1,sayi_2)\n",
    "sayi_1,sayi_2 = sayi_2,sayi_1\n",
    "print(sayi_1 , sayi_2)"
   ]
  },
  {
   "cell_type": "markdown",
   "metadata": {},
   "source": [
    "### Problem 5\n",
    "\n",
    "Write a Python program to solve (x - y) * (x + y)."
   ]
  },
  {
   "cell_type": "code",
   "execution_count": 43,
   "metadata": {},
   "outputs": [
    {
     "name": "stdout",
     "output_type": "stream",
     "text": [
      "bir sayi giriniz : 3\n",
      "bir sayi giriniz : 4\n",
      "x in karesi - y nin karesi = -7\n"
     ]
    }
   ],
   "source": [
    "x =int(input(\"bir sayi giriniz : \"))\n",
    "y = int(input(\"bir sayi giriniz : \"))\n",
    "sonuc = (x*x) - (y*y)\n",
    "print(\"x in karesi - y nin karesi =\" ,sonuc)"
   ]
  },
  {
   "cell_type": "markdown",
   "metadata": {},
   "source": [
    "### Problem 6\n",
    "\n",
    "Get **word**, **seperator** and **repetition** values from the user and print the word on the screen according to the given values. \n",
    "\n",
    "Ex: word = ali sep = / repetition = 3 ----> ali/ali/ali"
   ]
  },
  {
   "cell_type": "code",
   "execution_count": 48,
   "metadata": {},
   "outputs": [
    {
     "name": "stdout",
     "output_type": "stream",
     "text": [
      "bir kelime giriniz: ahmet\n",
      "bir ayrac girin: /\n",
      "tekrar sayisini giriniz: 3\n",
      "ahmet/ahmet/ahmet/\n"
     ]
    }
   ],
   "source": [
    "word = input(\"bir kelime giriniz: \")\n",
    "seperator = input(\"bir ayrac girin: \")\n",
    "repetition = int(input(\"tekrar sayisini giriniz: \"))\n",
    "print((word + seperator)* repetition )"
   ]
  },
  {
   "cell_type": "markdown",
   "metadata": {},
   "source": [
    "### Problem 7\n",
    "\n",
    "Get a sitring and an integer input from the user and get the output shown as in the example.\n",
    "\n",
    "Ex: word = Clarusway n = 3 OUTPUT = waywayway"
   ]
  },
  {
   "cell_type": "code",
   "execution_count": 55,
   "metadata": {},
   "outputs": [
    {
     "name": "stdout",
     "output_type": "stream",
     "text": [
      "bir sayi giriniz(1-9) :3\n",
      "waywayway\n"
     ]
    }
   ],
   "source": [
    "word = \"Clarusway\"\n",
    "number = int(input(\"bir sayi giriniz(1-9) :\"))\n",
    "a = len(word)\n",
    "b = word[a-number:]\n",
    "print(b*number)\n"
   ]
  },
  {
   "cell_type": "markdown",
   "metadata": {},
   "source": [
    "### Problem 8\n",
    "\n",
    "Get a number from the user. \n",
    "\n",
    "If the number is divided by 3 print *Clarus*, if it is divided by 5 print *way*, if it is divided by both 3 and 5 print *Clarusway*. \n",
    "\n",
    "If not, print the number itself."
   ]
  },
  {
   "cell_type": "markdown",
   "metadata": {},
   "source": [
    "num = int(input (\" bir sayi giriniz: \"))\n",
    "print(num%3 == 0)\n",
    "print(num%5 == 0)\n",
    "print('Clarus' * (num%3 ==0) + 'way' * (num%5 == 0) or num)"
   ]
  },
  {
   "cell_type": "markdown",
   "metadata": {},
   "source": [
    "### Problem 9\n",
    "letters = \"abclarusxyz\"\n",
    "- get the word **clarus** in the string\n",
    "- get the word **cba**\n",
    "- print the last eight characters in reverse order"
   ]
  },
  {
   "cell_type": "code",
   "execution_count": 57,
   "metadata": {},
   "outputs": [
    {
     "name": "stdout",
     "output_type": "stream",
     "text": [
      "clarus\n",
      "cba\n",
      "zyxsural\n"
     ]
    }
   ],
   "source": [
    "letters = \"abclarusxyz\"\n",
    "print(letters[2:8])\n",
    "print(letters[2::-1])\n",
    "print(letters[:-9:-1])\n"
   ]
  },
  {
   "cell_type": "code",
   "execution_count": null,
   "metadata": {},
   "outputs": [],
   "source": []
  },
  {
   "cell_type": "code",
   "execution_count": null,
   "metadata": {},
   "outputs": [],
   "source": []
  },
  {
   "cell_type": "markdown",
   "metadata": {},
   "source": [
    "### Problem 10\n",
    "\n",
    "Print **Clarusway is the best** from the elements of the rand_list list.\n",
    "\n",
    "rand_list = [1,[1, 2, \"Clarus\", [2, \"way\"]], \" is the best\"]"
   ]
  },
  {
   "cell_type": "code",
   "execution_count": 58,
   "metadata": {},
   "outputs": [
    {
     "name": "stdout",
     "output_type": "stream",
     "text": [
      "Clarusway is the best\n"
     ]
    }
   ],
   "source": [
    "rand_list = [1,[1, 2, \"Clarus\", [2, \"way\"]], \" is the best\"]\n",
    "print(rand_list[1][2] + rand_list[1][3][1] + rand_list[2])"
   ]
  },
  {
   "cell_type": "markdown",
   "metadata": {},
   "source": [
    "### Problem 11\n",
    "\n",
    "Sort the list given below in ascending order. Find the missing number from 1 to 10.\n",
    "\n",
    "num_list = [2, 3, 1, 5, 6, 4, 9, 8, 10]"
   ]
  },
  {
   "cell_type": "code",
   "execution_count": 30,
   "metadata": {},
   "outputs": [
    {
     "name": "stdout",
     "output_type": "stream",
     "text": [
      "[1, 2, 3, 4, 5, 6, 8, 9, 10]\n",
      "{7}\n"
     ]
    }
   ],
   "source": []
  },
  {
   "cell_type": "markdown",
   "metadata": {},
   "source": [
    "### Problem 12\n",
    "\n",
    "Print the oldest person's name?\n",
    "\n",
    "old ={\n",
    "  \"Emma\": 71,\n",
    "  \"Jack\": 45,\n",
    "  \"Amy\": 15,\n",
    "  \"Ben\": 29\n",
    "}"
   ]
  },
  {
   "cell_type": "code",
   "execution_count": null,
   "metadata": {},
   "outputs": [],
   "source": [
    "old ={\n",
    "  \"Emma\": 71,\n",
    "  \"Jack\": 45,\n",
    "  \"Amy\": 15,\n",
    "  \"Ben\": 29\n",
    "}\n",
    "\n",
    "print(max(old, key=old.get))"
   ]
  },
  {
   "cell_type": "markdown",
   "metadata": {},
   "source": [
    "### Problem 13\n",
    "\n",
    "Write a Python program to sum all the items in a dictionary.\n",
    "\n",
    "my_dict = {'data1':100,'data2':-54,'data3':247}"
   ]
  },
  {
   "cell_type": "code",
   "execution_count": 31,
   "metadata": {},
   "outputs": [
    {
     "name": "stdout",
     "output_type": "stream",
     "text": [
      "22\n"
     ]
    }
   ],
   "source": []
  },
  {
   "cell_type": "markdown",
   "metadata": {},
   "source": [
    "### Problem 14\n",
    "\n",
    "Write a Python program to compute average of two given lists.\n",
    "\n",
    "nums1 = [1, 1, 3, 4, 4, 5, 6, 7]\n",
    "nums2 = [0, 1, 2, 3, 4, 4, 5, 7, 8]"
   ]
  },
  {
   "cell_type": "code",
   "execution_count": null,
   "metadata": {},
   "outputs": [],
   "source": [
    "nums1 = [1, 1, 3, 4, 4, 5, 6, 7]\n",
    "nums2 = [0, 1, 2, 3, 4, 4, 5, 7, 8]\n",
    "print(\"Original list:\")\n",
    "print(nums1)\n",
    "print(nums2)\n",
    "\n",
    "result = sum(nums1 + nums2) / len(nums1 + nums2)\n",
    "\n",
    "print(\"\\nAverage of two lists:\")\n",
    "print(result)"
   ]
  }
 ],
 "metadata": {
  "kernelspec": {
   "display_name": "Python 3",
   "language": "python",
   "name": "python3"
  },
  "language_info": {
   "codemirror_mode": {
    "name": "ipython",
    "version": 3
   },
   "file_extension": ".py",
   "mimetype": "text/x-python",
   "name": "python",
   "nbconvert_exporter": "python",
   "pygments_lexer": "ipython3",
   "version": "3.8.8"
  }
 },
 "nbformat": 4,
 "nbformat_minor": 2
}
