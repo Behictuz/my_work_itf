{
 "cells": [
  {
   "cell_type": "code",
   "execution_count": 1,
   "id": "43c0479a",
   "metadata": {},
   "outputs": [
    {
     "name": "stdout",
     "output_type": "stream",
     "text": [
      "ben cok zekiyim\n"
     ]
    }
   ],
   "source": [
    "print(\"ben cok zekiyim\")"
   ]
  },
  {
   "cell_type": "code",
   "execution_count": 11,
   "id": "149e18f7",
   "metadata": {},
   "outputs": [
    {
     "name": "stdout",
     "output_type": "stream",
     "text": [
      "ben cok zekiyim\n",
      "new: 1\n"
     ]
    }
   ],
   "source": [
    "i=0\n",
    "if i<5:\n",
    "    print(\"ben cok zekiyim\")\n",
    "    i +=1\n",
    "print(\"new:\" , i)\n",
    "    \n",
    "    "
   ]
  },
  {
   "cell_type": "code",
   "execution_count": 12,
   "id": "d19f6687",
   "metadata": {},
   "outputs": [
    {
     "ename": "SyntaxError",
     "evalue": "invalid syntax (<ipython-input-12-02c9ec1d917f>, line 1)",
     "output_type": "error",
     "traceback": [
      "\u001b[1;36m  File \u001b[1;32m\"<ipython-input-12-02c9ec1d917f>\"\u001b[1;36m, line \u001b[1;32m1\u001b[0m\n\u001b[1;33m    ```` python\u001b[0m\n\u001b[1;37m    ^\u001b[0m\n\u001b[1;31mSyntaxError\u001b[0m\u001b[1;31m:\u001b[0m invalid syntax\n"
     ]
    }
   ],
   "source": [
    "```` python\n",
    "None\n",
    "[ ]\n",
    "()\n",
    "\"\"\n",
    "0\n",
    "0.0\n",
    "0j\n",
    "{}\n",
    "```"
   ]
  },
  {
   "cell_type": "code",
   "execution_count": 13,
   "id": "dae1a980",
   "metadata": {},
   "outputs": [
    {
     "name": "stdout",
     "output_type": "stream",
     "text": [
      "Bon Appetit...\n"
     ]
    }
   ],
   "source": [
    "minced=True\n",
    "bread = True\n",
    "lettuce=True\n",
    "onion=True\n",
    "grocer= True\n",
    "if grocer and onion and minced and bread and lettuce == True:\n",
    "    print(\"Bon Appetit...\")\n",
    "    \n"
   ]
  },
  {
   "cell_type": "code",
   "execution_count": 16,
   "id": "5b17cb1c",
   "metadata": {},
   "outputs": [
    {
     "ename": "TypeError",
     "evalue": "'<=' not supported between instances of 'str' and 'int'",
     "output_type": "error",
     "traceback": [
      "\u001b[1;31m---------------------------------------------------------------------------\u001b[0m",
      "\u001b[1;31mTypeError\u001b[0m                                 Traceback (most recent call last)",
      "\u001b[1;32m<ipython-input-16-e1fe38c8c8c8>\u001b[0m in \u001b[0;36m<module>\u001b[1;34m\u001b[0m\n\u001b[0;32m      1\u001b[0m \u001b[0mprice\u001b[0m\u001b[1;33m=\u001b[0m\u001b[1;34m\"2200\"\u001b[0m\u001b[1;33m\u001b[0m\u001b[1;33m\u001b[0m\u001b[0m\n\u001b[1;32m----> 2\u001b[1;33m \u001b[1;32mif\u001b[0m \u001b[0mprice\u001b[0m \u001b[1;33m<=\u001b[0m \u001b[1;36m2200\u001b[0m \u001b[1;33m:\u001b[0m\u001b[1;33m\u001b[0m\u001b[1;33m\u001b[0m\u001b[0m\n\u001b[0m\u001b[0;32m      3\u001b[0m     \u001b[0mprint\u001b[0m\u001b[1;33m(\u001b[0m\u001b[1;34m\"yapmaaa\"\u001b[0m\u001b[1;33m)\u001b[0m\u001b[1;33m\u001b[0m\u001b[1;33m\u001b[0m\u001b[0m\n\u001b[0;32m      4\u001b[0m \u001b[1;32melse\u001b[0m\u001b[1;33m:\u001b[0m\u001b[1;33m\u001b[0m\u001b[1;33m\u001b[0m\u001b[0m\n\u001b[0;32m      5\u001b[0m     \u001b[0mprint\u001b[0m\u001b[1;33m(\u001b[0m\u001b[1;34m\"naptinnn\"\u001b[0m\u001b[1;33m)\u001b[0m\u001b[1;33m\u001b[0m\u001b[1;33m\u001b[0m\u001b[0m\n",
      "\u001b[1;31mTypeError\u001b[0m: '<=' not supported between instances of 'str' and 'int'"
     ]
    }
   ],
   "source": [
    "price=\"2200\"\n",
    "if price <= 2200 :\n",
    "    print(\"yapmaaa\")\n",
    "else:\n",
    "    print(\"naptinnn\")"
   ]
  },
  {
   "cell_type": "code",
   "execution_count": 19,
   "id": "eccfe206",
   "metadata": {},
   "outputs": [
    {
     "name": "stdout",
     "output_type": "stream",
     "text": [
      "we are the same\n",
      "1 {'t', 'w', 'u', 's', 'v', 'o', 'n', 'l', 'e', ' ', 'p'}\n",
      "2 {'t', 'w', 'u', 's', 'v', 'o', 'l', 'e', ' ', 'n', 'p'}\n"
     ]
    }
   ],
   "source": [
    "string1=set(\"twelve plus one\")\n",
    "string2=set(\"eleven plus two\")\n",
    "if string1 == string2:\n",
    "    print(\"we are the same\")\n",
    "    print(\"1\",string1)\n",
    "    print(\"2\",string2)\n",
    "else:\n",
    "    print(\"we arent same\")"
   ]
  },
  {
   "cell_type": "code",
   "execution_count": 26,
   "id": "3bc22be8",
   "metadata": {},
   "outputs": [
    {
     "name": "stdout",
     "output_type": "stream",
     "text": [
      "Please Your write Yes or No: no \n",
      "hayir diyor False\n"
     ]
    }
   ],
   "source": [
    "a=input(\"Please Your write Yes or No: \").lower().strip()\n",
    "if a == \"yes\":\n",
    "    a = True\n",
    "    print(\"Evet diyorrr\",a)\n",
    "else:\n",
    "    a=False\n",
    "    print(\"hayir diyor\",a)"
   ]
  },
  {
   "cell_type": "code",
   "execution_count": 31,
   "id": "9806e549",
   "metadata": {},
   "outputs": [
    {
     "name": "stdout",
     "output_type": "stream",
     "text": [
      "Please Your write Yes or No: no\n",
      "<class 'bool'>\n",
      "False\n"
     ]
    }
   ],
   "source": [
    "a=input(\"Please Your write Yes or No: \").lower().strip() == \"yes\"\n",
    "print(type(a))\n",
    "print(a)"
   ]
  },
  {
   "cell_type": "code",
   "execution_count": 37,
   "id": "a732d408",
   "metadata": {},
   "outputs": [
    {
     "name": "stdout",
     "output_type": "stream",
     "text": [
      "Please one a  number give: 9\n",
      "Girmis oldugunuz sayi (9) tektir.\n"
     ]
    }
   ],
   "source": [
    "a=int(input(\"Please one a  number give: \"))\n",
    "if a % 2 == 0:\n",
    "    print(\"Girmis oldugunuz sayi ({}) ciftti.\".format(a))\n",
    "else:\n",
    "    print(\"Girmis oldugunuz sayi ({}) tektir.\".format(a))"
   ]
  },
  {
   "cell_type": "code",
   "execution_count": null,
   "id": "18683edf",
   "metadata": {},
   "outputs": [],
   "source": []
  },
  {
   "cell_type": "code",
   "execution_count": null,
   "id": "0c2ace0b",
   "metadata": {},
   "outputs": [],
   "source": []
  }
 ],
 "metadata": {
  "kernelspec": {
   "display_name": "Python 3",
   "language": "python",
   "name": "python3"
  },
  "language_info": {
   "codemirror_mode": {
    "name": "ipython",
    "version": 3
   },
   "file_extension": ".py",
   "mimetype": "text/x-python",
   "name": "python",
   "nbconvert_exporter": "python",
   "pygments_lexer": "ipython3",
   "version": "3.8.8"
  }
 },
 "nbformat": 4,
 "nbformat_minor": 5
}
