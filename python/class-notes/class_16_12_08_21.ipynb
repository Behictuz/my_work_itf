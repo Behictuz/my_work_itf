{
 "cells": [
  {
   "cell_type": "markdown",
   "id": "71cdd310",
   "metadata": {},
   "source": [
    "## Lambda Function"
   ]
  },
  {
   "cell_type": "code",
   "execution_count": 1,
   "id": "3219b9ee",
   "metadata": {},
   "outputs": [],
   "source": [
    "def square(x):\n",
    "    return x**2"
   ]
  },
  {
   "cell_type": "code",
   "execution_count": 3,
   "id": "7802d137",
   "metadata": {},
   "outputs": [],
   "source": [
    "new = lambda x:x**2"
   ]
  },
  {
   "cell_type": "code",
   "execution_count": 4,
   "id": "6a48484e",
   "metadata": {},
   "outputs": [
    {
     "name": "stdout",
     "output_type": "stream",
     "text": [
      "25\n"
     ]
    }
   ],
   "source": [
    "print(new(5))"
   ]
  },
  {
   "cell_type": "code",
   "execution_count": 7,
   "id": "bcc268a4",
   "metadata": {},
   "outputs": [
    {
     "data": {
      "text/plain": [
       "'odd'"
      ]
     },
     "execution_count": 7,
     "metadata": {},
     "output_type": "execute_result"
    }
   ],
   "source": [
    "(lambda x: \"odd\" if x%2 != 0 else \"even\")(3)"
   ]
  },
  {
   "cell_type": "code",
   "execution_count": 8,
   "id": "0277502b",
   "metadata": {},
   "outputs": [
    {
     "name": "stdout",
     "output_type": "stream",
     "text": [
      "4.0\n"
     ]
    }
   ],
   "source": [
    "print((lambda x, y: (x+y)/2)(3,5))"
   ]
  },
  {
   "cell_type": "code",
   "execution_count": 20,
   "id": "ce18a1f5",
   "metadata": {},
   "outputs": [
    {
     "data": {
      "text/plain": [
       "'alI'"
      ]
     },
     "execution_count": 20,
     "metadata": {},
     "output_type": "execute_result"
    }
   ],
   "source": [
    "(lambda x: x[::-1])(\"Ila\")"
   ]
  },
  {
   "cell_type": "code",
   "execution_count": 31,
   "id": "9a0c96a9",
   "metadata": {},
   "outputs": [
    {
     "name": "stdout",
     "output_type": "stream",
     "text": [
      "1 odd\n",
      "2 even\n",
      "3 odd\n",
      "4 even\n",
      "5 odd\n",
      "6 even\n",
      "7 odd\n",
      "8 even\n",
      "9 odd\n",
      "10 even\n"
     ]
    }
   ],
   "source": [
    "for i in [1,2,3,4,5,6,7,8,9,10]:\n",
    "    print(i,(lambda x:  \"odd\" if x%2 != 0 else \"even\")(i))"
   ]
  },
  {
   "cell_type": "code",
   "execution_count": 32,
   "id": "eafe5008",
   "metadata": {},
   "outputs": [
    {
     "data": {
      "text/plain": [
       "'ola'"
      ]
     },
     "execution_count": 32,
     "metadata": {},
     "output_type": "execute_result"
    }
   ],
   "source": [
    "reverse = lambda x: x[::-1]\n",
    "reverse(\"alo\")"
   ]
  },
  {
   "cell_type": "code",
   "execution_count": 33,
   "id": "a835db3e",
   "metadata": {},
   "outputs": [
    {
     "name": "stdout",
     "output_type": "stream",
     "text": [
      "<class 'map'>\n",
      "[1, 4, 9, 16, 25]\n",
      "[1, 4, 9, 16, 25]\n"
     ]
    }
   ],
   "source": [
    "iterable =[1,2,3,4,5]\n",
    "map(lambda x:x**2,iterable)\n",
    "result = map(lambda x:x**2,iterable)\n",
    "print(type(result))\n",
    "print(list(result))\n",
    "print(list(map(lambda x:x**2,iterable)))"
   ]
  },
  {
   "cell_type": "code",
   "execution_count": 38,
   "id": "0ff07c9a",
   "metadata": {},
   "outputs": [
    {
     "name": "stdout",
     "output_type": "stream",
     "text": [
      "1\n",
      "4\n",
      "9\n",
      "16\n",
      "25\n",
      "36\n",
      "64\n",
      "49\n"
     ]
    }
   ],
   "source": [
    "def new_input(n):\n",
    "    return n **2\n",
    "rakamlar=[1,2,3,4,5,6,8,7]\n",
    "result=map(new_input,rakamlar)\n",
    "for i in result:\n",
    "    print(i)"
   ]
  },
  {
   "cell_type": "code",
   "execution_count": 42,
   "id": "3048a1ba",
   "metadata": {},
   "outputs": [
    {
     "name": "stdout",
     "output_type": "stream",
     "text": [
      "['one', 'six', 'ten', 'two']\n"
     ]
    }
   ],
   "source": [
    "letter1 = ['o', 's', 't', 't']\n",
    "letter2 = ['n', 'i', 'e', 'w']\n",
    "letter3 = ['e', 'x', 'n', 'o']\n",
    "numbers = map(lambda x, y, z: x+y+z, letter1, letter2, letter3)\n",
    "print(list(numbers))"
   ]
  },
  {
   "cell_type": "code",
   "execution_count": 43,
   "id": "9cd715d4",
   "metadata": {},
   "outputs": [
    {
     "name": "stdout",
     "output_type": "stream",
     "text": [
      "[6.0, 6.0, 6.0, 6.0]\n"
     ]
    }
   ],
   "source": [
    "nums1 =[9,6,7,4]\n",
    "nums2=[3,6,5,8]\n",
    "numbers = map(lambda x,y:(x+y)/2,nums1,nums2)\n",
    "print(list(numbers))"
   ]
  },
  {
   "cell_type": "code",
   "execution_count": 48,
   "id": "381385dd",
   "metadata": {},
   "outputs": [
    {
     "name": "stdout",
     "output_type": "stream",
     "text": [
      "[13, 20, 14]\n"
     ]
    }
   ],
   "source": [
    "kelimeler = [\"ali veli deli\", \"mehmet ağanın kuzeni\", \"cemilin-bacısı\"]\n",
    "uzunluk=map(len,kelimeler)\n",
    "print(list(uzunluk))"
   ]
  },
  {
   "cell_type": "code",
   "execution_count": 50,
   "id": "095372e2",
   "metadata": {},
   "outputs": [
    {
     "name": "stdout",
     "output_type": "stream",
     "text": [
      "['iyoulove', 'youmuchate', 'hehardworks']\n"
     ]
    }
   ],
   "source": [
    "word1=[\"you\",\"much\",\"hard\"]\n",
    "word2=[\"i\",\"you\",\"he\"]\n",
    "word3=[\"love\",\"ate\",\"works\"]\n",
    "sentence = map(lambda x, y, z: x + y + z, word2, word1, word3)\n",
    "print(list(sentence))"
   ]
  },
  {
   "cell_type": "markdown",
   "id": "49e5da87",
   "metadata": {},
   "source": [
    "## Lambda FILTER Functions"
   ]
  },
  {
   "cell_type": "code",
   "execution_count": 51,
   "id": "cfdb8187",
   "metadata": {},
   "outputs": [
    {
     "name": "stdout",
     "output_type": "stream",
     "text": [
      "['swim', 'me', 'kiwi']\n"
     ]
    }
   ],
   "source": [
    "words = [\"apple\", \"swim\", \"clock\", \"me\", \"kiwi\", \"banana\"]\n",
    "say= filter(lambda x: len(x)<5,words)\n",
    "print(list(say))"
   ]
  },
  {
   "cell_type": "code",
   "execution_count": 61,
   "id": "b1cb478b",
   "metadata": {},
   "outputs": [
    {
     "name": "stdout",
     "output_type": "stream",
     "text": [
      "['a', 'e', 'i']\n"
     ]
    }
   ],
   "source": [
    "first_ten = ['a', 'b', 'c', 'd', 'e', 'f', 'g', 'h', 'i', 'j']\n",
    "\n",
    "say= filter(lambda x: x in (\"i\" , \"ö\" , \"u\" , \"a\" , \"e\"),first_ten)\n",
    "print(list(say))"
   ]
  },
  {
   "cell_type": "code",
   "execution_count": 77,
   "id": "5607f87f",
   "metadata": {},
   "outputs": [
    {
     "name": "stdout",
     "output_type": "stream",
     "text": [
      "0 -10\n"
     ]
    }
   ],
   "source": [
    "commands=[\"right 20\",\"right 30\",\"left 50\",\"down 20\",\"up 10\"]\n",
    "x=y=0\n",
    "for i in range(len(commands)):\n",
    "    if commands[i].startswith(\"r\"):\n",
    "        x_deger= int(commands[i].split()[1])\n",
    "        x=x+x_deger\n",
    "    elif commands[i].startswith(\"l\"):\n",
    "        x_deger= int(commands[i].split()[1])\n",
    "        x=x-x_deger\n",
    "    elif commands[i].startswith(\"d\"):\n",
    "        y_deger= int(commands[i].split()[1])\n",
    "        y=y-y_deger\n",
    "    elif commands[i].startswith(\"u\"):\n",
    "        y_deger= int(commands[i].split()[1])\n",
    "        y=y+y_deger\n",
    "print(x,y)\n",
    "        \n",
    "        \n"
   ]
  },
  {
   "cell_type": "code",
   "execution_count": null,
   "id": "dc0cd41c",
   "metadata": {},
   "outputs": [],
   "source": []
  }
 ],
 "metadata": {
  "kernelspec": {
   "display_name": "Python 3",
   "language": "python",
   "name": "python3"
  },
  "language_info": {
   "codemirror_mode": {
    "name": "ipython",
    "version": 3
   },
   "file_extension": ".py",
   "mimetype": "text/x-python",
   "name": "python",
   "nbconvert_exporter": "python",
   "pygments_lexer": "ipython3",
   "version": "3.8.8"
  }
 },
 "nbformat": 4,
 "nbformat_minor": 5
}
